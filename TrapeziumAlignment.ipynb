{
 "cells": [
  {
   "cell_type": "code",
   "execution_count": 1,
   "metadata": {},
   "outputs": [],
   "source": [
    "from astropy.io import fits\n",
    "from astropy.table import Table\n",
    "import astropy.table as table\n",
    "\n",
    "import numpy as np\n",
    "import astropy.units as u\n",
    "import matplotlib.pyplot as plt\n",
    "import matplotlib\n",
    "\n",
    "from astropy.wcs import WCS\n",
    "from astropy.wcs.utils import skycoord_to_pixel\n",
    "from astropy.utils.data import get_pkg_data_filename\n",
    "\n",
    "from astropy.coordinates import SkyCoord"
   ]
  },
  {
   "cell_type": "code",
   "execution_count": 2,
   "metadata": {},
   "outputs": [],
   "source": [
    "#Make a histogram of proper motions from the Orion star-forming region"
   ]
  },
  {
   "cell_type": "code",
   "execution_count": 3,
   "metadata": {},
   "outputs": [
    {
     "name": "stderr",
     "output_type": "stream",
     "text": [
      "WARNING: FITSFixedWarning: Removed redundant SCAMP distortion parameters because SIP parameters are also present [astropy.wcs.wcs]\n"
     ]
    }
   ],
   "source": [
    "filename = 'C:\\\\users\\\\sahal\\\\2018TrinaryWork\\\\TrinaryStarSearch\\\\Data\\\\ch4_merged_clean.fits'\n",
    "hdu = fits.open(filename)[0]\n",
    "hdu.header['CTYPE1']='RA---TAN-SIP'\n",
    "hdu.header['CTYPE2']='DEC--TAN-SIP'\n",
    "wcs = WCS(hdu.header)\n",
    "\n",
    "gaiaHDU = fits.open('C://users//sahal//2018TrinaryWork//TrinaryStarSearch//Data/gaiadr2_OrionTables.fits')\n",
    "gTab=Table(gaiaHDU[1].data)\n",
    "\n",
    "gaiaConfHDU = fits.open('c:\\\\users\\\\sahal\\\\2018TrinaryWork\\\\TrinaryStarSearch\\\\Data\\\\conf_in_gaiadr2_oriontables.fits')\n",
    "gaiaConfTab = Table(gaiaConfHDU[1].data)\n",
    "Mg_all = np.array([G + 5 - 5*(np.log10(1000/p)) for G, p in zip(gaiaConfTab['phot_g_mean_mag'], gaiaConfTab['parallax'])])\n",
    "ii=[]\n",
    "for i in range(len(gaiaConfTab)):\n",
    "    if( (Mg_all[i]<2.46*(gaiaConfTab['bp_rp'][i])+2.76 and .3<(gaiaConfTab['bp_rp'][i])<1.8)\n",
    "       or (Mg_all[i]<2.8*(gaiaConfTab['bp_rp'][i])+2.16 and 1.8<(gaiaConfTab['bp_rp'][i]))):\n",
    "        ii.append(i)\n",
    "gaiaConfTab = gaiaConfTab[ii]\n",
    "\n",
    "confTab = Table.read('C://users//sahal//2018TrinaryWork//TrinaryStarSearch//Data/oriona-allmembers.fits')\n",
    "\n",
    "wTrap = Table.read('C://users//sahal//2018TrinaryWork//TrinaryStarSearch//data/wTrap.fits')\n",
    "wOB = Table.read('C://users//sahal//2018TrinaryWork//TrinaryStarSearch//data/wOB.fits')\n",
    "wOther = Table.read('C://users//sahal//2018TrinaryWork//TrinaryStarSearch//data/wElse.fits')\n",
    "\n",
    "\n",
    "OBTab = Table.read('C://users//sahal//2018TrinaryWork//TrinaryStarSearch//data/ob_ori.fits')\n",
    "\n",
    "masterHDU = fits.open('C://users//sahal//2018TrinaryWork//TrinaryStarSearch/Data//masterconfirmedtable_1.fits')\n",
    "mTab = Table(masterHDU[1].data)\n",
    "\n",
    "thOriA = SkyCoord('5h35m15.8290940s','-05d23m14.153141s', frame = 'icrs')\n",
    "thOriB = SkyCoord('05h35m16.112s','-05d23 m06.89s', frame = 'icrs')\n",
    "thOriC = SkyCoord('05h35m16.46375s', '-05d23m22.8486s', frame = 'icrs')\n",
    "thOriD = SkyCoord('05h35m17.19248s', '-05d23m15.5661s', frame = 'icrs')\n",
    "traptab = Table([[thOriA.ra.deg,thOriB.ra.deg, thOriC.ra.deg, thOriD.ra.deg],\n",
    "                [thOriA.dec.deg, thOriB.dec.deg,thOriC.dec.deg, thOriD.dec.deg],\n",
    "                [1.81,-.9,-4.13,-7.11],[-1.62,.1,6.82,8.29]],\n",
    "               names =('ra','dec','pmra','pmdec'))"
   ]
  },
  {
   "cell_type": "code",
   "execution_count": 4,
   "metadata": {},
   "outputs": [],
   "source": [
    "avgPmra = np.mean(gaiaConfTab['pmra'])\n",
    "avgPmdec = np.mean(gaiaConfTab['pmdec'])\n",
    "\n",
    "trapRa = np.mean(traptab['ra'])\n",
    "trapDec = np.mean(traptab['dec'])"
   ]
  },
  {
   "cell_type": "code",
   "execution_count": 5,
   "metadata": {},
   "outputs": [],
   "source": [
    "pmra_corr = gaiaConfTab['pmra']-avgPmra\n",
    "pmdec_corr = gaiaConfTab['pmdec']-avgPmdec\n",
    "\n",
    "ra_pos = -(gaiaConfTab['ra_1']-trapRa)\n",
    "dec_pos = -(gaiaConfTab['dec_1']-trapDec)\n",
    "\n",
    "ctheta = []\n",
    "for i in range(len(gaiaConfTab)):\n",
    "    posVec = np.array([ra_pos[i], dec_pos[i]])\n",
    "    pmVec = np.array([pmra_corr[i], pmdec_corr[i]])\n",
    "    cth = np.dot(posVec, pmVec) / (np.sqrt(np.dot(posVec, posVec))*np.sqrt(np.dot(pmVec,pmVec)))\n",
    "    ctheta.append(cth)\n",
    "theta = np.arccos(np.array(ctheta))*180/np.pi"
   ]
  },
  {
   "cell_type": "code",
   "execution_count": 57,
   "metadata": {},
   "outputs": [
    {
     "data": {
      "image/png": "[encoded data removed]",
      "text/plain": [
       "<Figure size 432x288 with 1 Axes>"
      ]
     },
     "metadata": {},
     "output_type": "display_data"
    }
   ],
   "source": [
    "plt.hist(theta, bins = 100, range = (0,180))\n",
    "plt.title('PM angle from Trapezium')\n",
    "plt.xlabel('Angle of proper motion to path to trapezium (degrees)')\n",
    "plt.ylabel('Count')\n",
    "plt.xticks(np.linspace(0,180,10))\n",
    "plt.show()"
   ]
  },
  {
   "cell_type": "code",
   "execution_count": null,
   "metadata": {},
   "outputs": [],
   "source": []
  },
  {
   "cell_type": "code",
   "execution_count": 12,
   "metadata": {},
   "outputs": [
    {
     "data": {
      "image/png": "[encoded data removed]",
      "text/plain": [
       "<Figure size 432x288 with 1 Axes>"
      ]
     },
     "metadata": {},
     "output_type": "display_data"
    }
   ],
   "source": [
    "plt.hist(np.sqrt(pmra_corr**2 +pmdec_corr**2)*2, bins = 150,range = (0,5))\n",
    "plt.title('Proper Motion Magnitude')\n",
    "plt.xlabel('Approximately km $s^{-1}$')\n",
    "plt.show()"
   ]
  },
  {
   "cell_type": "code",
   "execution_count": null,
   "metadata": {},
   "outputs": [],
   "source": []
  }
 ],
 "metadata": {
  "kernelspec": {
   "display_name": "Python 3",
   "language": "python",
   "name": "python3"
  },
  "language_info": {
   "codemirror_mode": {
    "name": "ipython",
    "version": 3
   },
   "file_extension": ".py",
   "mimetype": "text/x-python",
   "name": "python",
   "nbconvert_exporter": "python",
   "pygments_lexer": "ipython3",
   "version": "3.6.5"
  }
 },
 "nbformat": 4,
 "nbformat_minor": 2
}
